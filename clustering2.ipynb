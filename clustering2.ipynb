{
 "cells": [
  {
   "cell_type": "markdown",
   "id": "d5e6cb51-003d-4cb3-9530-3b1cac52ea3b",
   "metadata": {},
   "source": [
    "Q1. What is Hierarchical Clustering and Its Differences:\n",
    "Hierarchical clustering is an algorithm that builds a hierarchy of clusters. It differs from other clustering methods by creating a tree of clusters where each node represents a cluster that comprises its children clusters.\n",
    "\n"
   ]
  },
  {
   "cell_type": "markdown",
   "id": "a3271183-113f-480a-99a4-e651c4676413",
   "metadata": {},
   "source": [
    "Q2. Two Main Types of Hierarchical Clustering Algorithms:\n",
    "Agglomerative Hierarchical Clustering: Starts with each point as an individual cluster and merges the closest clusters iteratively.\n",
    "Divisive Hierarchical Clustering: Starts with one cluster including all points and splits them into smaller clusters.\n"
   ]
  },
  {
   "cell_type": "markdown",
   "id": "dfe7e8d9-2094-4bb3-8118-e62192aa83de",
   "metadata": {},
   "source": [
    "Q3. Determining Distance Between Clusters and Common Distance Metrics:\n",
    "The distance between clusters can be calculated using various metrics such as:\n",
    "\n",
    "Euclidean distance: Measures the straight-line distance between two points.\n",
    "Manhattan distance: Measures the sum of absolute differences between the coordinates of two points.\n",
    "Cosine similarity: Measures the cosine of the angle between two vectors."
   ]
  },
  {
   "cell_type": "code",
   "execution_count": null,
   "id": "93042bbc-f079-4128-beec-dd609a96e326",
   "metadata": {},
   "outputs": [],
   "source": [
    "Q4. Determining the Optimal Number of Clusters in Hierarchical Clustering:\n",
    "Methods to identify the optimal number of clusters include:\n",
    "\n",
    "Dendrogram Inspection: Identify where the dendrogram shows significant changes in cluster fusion.\n",
    "Cutting the Dendrogram: Based on a pre-defined threshold or number of clusters.\n",
    "Gap Statistics: Compare the change in within-cluster dispersion to a null reference distribution."
   ]
  }
 ],
 "metadata": {
  "kernelspec": {
   "display_name": "Python 3 (ipykernel)",
   "language": "python",
   "name": "python3"
  },
  "language_info": {
   "codemirror_mode": {
    "name": "ipython",
    "version": 3
   },
   "file_extension": ".py",
   "mimetype": "text/x-python",
   "name": "python",
   "nbconvert_exporter": "python",
   "pygments_lexer": "ipython3",
   "version": "3.10.8"
  }
 },
 "nbformat": 4,
 "nbformat_minor": 5
}
